{
 "cells": [
  {
   "cell_type": "code",
   "execution_count": 1,
   "metadata": {},
   "outputs": [
    {
     "name": "stdout",
     "output_type": "stream",
     "text": [
      "Hello\n"
     ]
    }
   ],
   "source": [
    "print(\"Hello\")"
   ]
  },
  {
   "cell_type": "code",
   "execution_count": 2,
   "metadata": {},
   "outputs": [
    {
     "name": "stdout",
     "output_type": "stream",
     "text": [
      "hello everyone\n"
     ]
    }
   ],
   "source": [
    "print(\"hello everyone\")"
   ]
  },
  {
   "cell_type": "code",
   "execution_count": 3,
   "metadata": {},
   "outputs": [
    {
     "name": "stdout",
     "output_type": "stream",
     "text": [
      "Collecting nltk\n",
      "  Downloading nltk-3.9.1-py3-none-any.whl.metadata (2.9 kB)\n",
      "Collecting pandas\n",
      "  Downloading pandas-2.2.3-cp313-cp313-win_amd64.whl.metadata (19 kB)\n",
      "Collecting scikit-learn\n",
      "  Downloading scikit_learn-1.6.1-cp313-cp313-win_amd64.whl.metadata (15 kB)\n",
      "Collecting click (from nltk)\n",
      "  Downloading click-8.1.8-py3-none-any.whl.metadata (2.3 kB)\n",
      "Collecting joblib (from nltk)\n",
      "  Downloading joblib-1.4.2-py3-none-any.whl.metadata (5.4 kB)\n",
      "Collecting regex>=2021.8.3 (from nltk)\n",
      "  Downloading regex-2024.11.6-cp313-cp313-win_amd64.whl.metadata (41 kB)\n",
      "Collecting tqdm (from nltk)\n",
      "  Downloading tqdm-4.67.1-py3-none-any.whl.metadata (57 kB)\n",
      "Collecting numpy>=1.26.0 (from pandas)\n",
      "  Downloading numpy-2.2.2-cp313-cp313-win_amd64.whl.metadata (60 kB)\n",
      "Requirement already satisfied: python-dateutil>=2.8.2 in c:\\users\\fci3322\\documents\\github\\step\\step\\venv\\lib\\site-packages (from pandas) (2.9.0.post0)\n",
      "Collecting pytz>=2020.1 (from pandas)\n",
      "  Downloading pytz-2024.2-py2.py3-none-any.whl.metadata (22 kB)\n",
      "Collecting tzdata>=2022.7 (from pandas)\n",
      "  Downloading tzdata-2024.2-py2.py3-none-any.whl.metadata (1.4 kB)\n",
      "Collecting scipy>=1.6.0 (from scikit-learn)\n",
      "  Downloading scipy-1.15.1-cp313-cp313-win_amd64.whl.metadata (60 kB)\n",
      "Collecting threadpoolctl>=3.1.0 (from scikit-learn)\n",
      "  Downloading threadpoolctl-3.5.0-py3-none-any.whl.metadata (13 kB)\n",
      "Requirement already satisfied: six>=1.5 in c:\\users\\fci3322\\documents\\github\\step\\step\\venv\\lib\\site-packages (from python-dateutil>=2.8.2->pandas) (1.17.0)\n",
      "Requirement already satisfied: colorama in c:\\users\\fci3322\\documents\\github\\step\\step\\venv\\lib\\site-packages (from click->nltk) (0.4.6)\n",
      "Downloading nltk-3.9.1-py3-none-any.whl (1.5 MB)\n",
      "   ---------------------------------------- 0.0/1.5 MB ? eta -:--:--\n",
      "   ---------------------------------------- 0.0/1.5 MB ? eta -:--:--\n",
      "   ---------------------------------------- 0.0/1.5 MB ? eta -:--:--\n",
      "   ---------------------------------------- 0.0/1.5 MB ? eta -:--:--\n",
      "   ---------------------------------------- 0.0/1.5 MB ? eta -:--:--\n",
      "   ------ --------------------------------- 0.3/1.5 MB ? eta -:--:--\n",
      "   ------ --------------------------------- 0.3/1.5 MB ? eta -:--:--\n",
      "   ------ --------------------------------- 0.3/1.5 MB ? eta -:--:--\n",
      "   ------ --------------------------------- 0.3/1.5 MB ? eta -:--:--\n",
      "   ------------- -------------------------- 0.5/1.5 MB 383.5 kB/s eta 0:00:03\n",
      "   ------------- -------------------------- 0.5/1.5 MB 383.5 kB/s eta 0:00:03\n",
      "   -------------------- ------------------- 0.8/1.5 MB 398.7 kB/s eta 0:00:02\n",
      "   -------------------- ------------------- 0.8/1.5 MB 398.7 kB/s eta 0:00:02\n",
      "   --------------------------- ------------ 1.0/1.5 MB 463.1 kB/s eta 0:00:01\n",
      "   --------------------------- ------------ 1.0/1.5 MB 463.1 kB/s eta 0:00:01\n",
      "   ---------------------------------- ----- 1.3/1.5 MB 481.3 kB/s eta 0:00:01\n",
      "   ---------------------------------------- 1.5/1.5 MB 519.6 kB/s eta 0:00:00\n",
      "Downloading pandas-2.2.3-cp313-cp313-win_amd64.whl (11.5 MB)\n",
      "   ---------------------------------------- 0.0/11.5 MB ? eta -:--:--\n",
      "   ---------------------------------------- 0.0/11.5 MB ? eta -:--:--\n",
      "    --------------------------------------- 0.3/11.5 MB ? eta -:--:--\n",
      "   - -------------------------------------- 0.5/11.5 MB 1.6 MB/s eta 0:00:07\n",
      "   -- ------------------------------------- 0.8/11.5 MB 1.1 MB/s eta 0:00:10\n",
      "   --- ------------------------------------ 1.0/11.5 MB 1.1 MB/s eta 0:00:10\n",
      "   --- ------------------------------------ 1.0/11.5 MB 1.1 MB/s eta 0:00:10\n",
      "   ----- ---------------------------------- 1.6/11.5 MB 1.1 MB/s eta 0:00:09\n",
      "   ------ --------------------------------- 1.8/11.5 MB 1.2 MB/s eta 0:00:09\n",
      "   ------ --------------------------------- 1.8/11.5 MB 1.2 MB/s eta 0:00:09\n",
      "   -------- ------------------------------- 2.4/11.5 MB 1.2 MB/s eta 0:00:08\n",
      "   -------- ------------------------------- 2.4/11.5 MB 1.2 MB/s eta 0:00:08\n",
      "   ---------- ----------------------------- 2.9/11.5 MB 1.2 MB/s eta 0:00:07\n",
      "   ---------- ----------------------------- 3.1/11.5 MB 1.2 MB/s eta 0:00:07\n",
      "   ------------ --------------------------- 3.7/11.5 MB 1.3 MB/s eta 0:00:07\n",
      "   ------------- -------------------------- 3.9/11.5 MB 1.4 MB/s eta 0:00:06\n",
      "   --------------- ------------------------ 4.5/11.5 MB 1.4 MB/s eta 0:00:06\n",
      "   ---------------- ----------------------- 4.7/11.5 MB 1.3 MB/s eta 0:00:06\n",
      "   ------------------ --------------------- 5.2/11.5 MB 1.4 MB/s eta 0:00:05\n",
      "   -------------------- ------------------- 5.8/11.5 MB 1.5 MB/s eta 0:00:04\n",
      "   -------------------- ------------------- 5.8/11.5 MB 1.5 MB/s eta 0:00:04\n",
      "   ---------------------- ----------------- 6.6/11.5 MB 1.5 MB/s eta 0:00:04\n",
      "   ------------------------ --------------- 7.1/11.5 MB 1.6 MB/s eta 0:00:03\n",
      "   ------------------------- -------------- 7.3/11.5 MB 1.6 MB/s eta 0:00:03\n",
      "   --------------------------- ------------ 7.9/11.5 MB 1.6 MB/s eta 0:00:03\n",
      "   ----------------------------- ---------- 8.4/11.5 MB 1.6 MB/s eta 0:00:02\n",
      "   ------------------------------ --------- 8.7/11.5 MB 1.6 MB/s eta 0:00:02\n",
      "   -------------------------------- ------- 9.4/11.5 MB 1.7 MB/s eta 0:00:02\n",
      "   ---------------------------------- ----- 10.0/11.5 MB 1.7 MB/s eta 0:00:01\n",
      "   ------------------------------------ --- 10.5/11.5 MB 1.8 MB/s eta 0:00:01\n",
      "   -------------------------------------- - 11.0/11.5 MB 1.8 MB/s eta 0:00:01\n",
      "   ---------------------------------------  11.3/11.5 MB 1.8 MB/s eta 0:00:01\n",
      "   ---------------------------------------- 11.5/11.5 MB 1.7 MB/s eta 0:00:00\n",
      "Downloading scikit_learn-1.6.1-cp313-cp313-win_amd64.whl (11.1 MB)\n",
      "   ---------------------------------------- 0.0/11.1 MB ? eta -:--:--\n",
      "   ---------------------------------------- 0.0/11.1 MB ? eta -:--:--\n",
      "   ---- ----------------------------------- 1.3/11.1 MB 11.2 MB/s eta 0:00:01\n",
      "   ----- ---------------------------------- 1.6/11.1 MB 4.8 MB/s eta 0:00:02\n",
      "   ------- -------------------------------- 2.1/11.1 MB 4.4 MB/s eta 0:00:03\n",
      "   ----------- ---------------------------- 3.1/11.1 MB 3.9 MB/s eta 0:00:03\n",
      "   ------------- -------------------------- 3.7/11.1 MB 3.6 MB/s eta 0:00:03\n",
      "   --------------- ------------------------ 4.2/11.1 MB 3.7 MB/s eta 0:00:02\n",
      "   ------------------ --------------------- 5.2/11.1 MB 3.5 MB/s eta 0:00:02\n",
      "   -------------------- ------------------- 5.8/11.1 MB 3.4 MB/s eta 0:00:02\n",
      "   ---------------------- ----------------- 6.3/11.1 MB 3.5 MB/s eta 0:00:02\n",
      "   -------------------------- ------------- 7.3/11.1 MB 3.4 MB/s eta 0:00:02\n",
      "   ---------------------------- ----------- 7.9/11.1 MB 3.3 MB/s eta 0:00:01\n",
      "   ------------------------------ --------- 8.4/11.1 MB 3.4 MB/s eta 0:00:01\n",
      "   ---------------------------------- ----- 9.4/11.1 MB 3.4 MB/s eta 0:00:01\n",
      "   ----------------------------------- ---- 9.7/11.1 MB 3.2 MB/s eta 0:00:01\n",
      "   ------------------------------------- -- 10.5/11.1 MB 3.3 MB/s eta 0:00:01\n",
      "   ---------------------------------------  11.0/11.1 MB 3.2 MB/s eta 0:00:01\n",
      "   ---------------------------------------- 11.1/11.1 MB 3.1 MB/s eta 0:00:00\n",
      "Downloading joblib-1.4.2-py3-none-any.whl (301 kB)\n",
      "Downloading numpy-2.2.2-cp313-cp313-win_amd64.whl (12.6 MB)\n",
      "   ---------------------------------------- 0.0/12.6 MB ? eta -:--:--\n",
      "   ---------------------------------------- 0.0/12.6 MB ? eta -:--:--\n",
      "   -- ------------------------------------- 0.8/12.6 MB 8.9 MB/s eta 0:00:02\n",
      "   ----- ---------------------------------- 1.8/12.6 MB 6.6 MB/s eta 0:00:02\n",
      "   -------- ------------------------------- 2.6/12.6 MB 5.0 MB/s eta 0:00:02\n",
      "   --------- ------------------------------ 3.1/12.6 MB 4.1 MB/s eta 0:00:03\n",
      "   ------------ --------------------------- 3.9/12.6 MB 4.1 MB/s eta 0:00:03\n",
      "   -------------- ------------------------- 4.7/12.6 MB 3.9 MB/s eta 0:00:02\n",
      "   ---------------- ----------------------- 5.2/12.6 MB 3.6 MB/s eta 0:00:03\n",
      "   ------------------- -------------------- 6.0/12.6 MB 3.7 MB/s eta 0:00:02\n",
      "   --------------------- ------------------ 6.8/12.6 MB 3.7 MB/s eta 0:00:02\n",
      "   ----------------------- ---------------- 7.3/12.6 MB 3.5 MB/s eta 0:00:02\n",
      "   ------------------------- -------------- 8.1/12.6 MB 3.5 MB/s eta 0:00:02\n",
      "   ---------------------------- ----------- 8.9/12.6 MB 3.5 MB/s eta 0:00:02\n",
      "   ----------------------------- ---------- 9.4/12.6 MB 3.4 MB/s eta 0:00:01\n",
      "   -------------------------------- ------- 10.2/12.6 MB 3.5 MB/s eta 0:00:01\n",
      "   ---------------------------------- ----- 11.0/12.6 MB 3.4 MB/s eta 0:00:01\n",
      "   ------------------------------------ --- 11.5/12.6 MB 3.4 MB/s eta 0:00:01\n",
      "   ---------------------------------------  12.3/12.6 MB 3.4 MB/s eta 0:00:01\n",
      "   ---------------------------------------  12.6/12.6 MB 3.3 MB/s eta 0:00:01\n",
      "   ---------------------------------------- 12.6/12.6 MB 3.2 MB/s eta 0:00:00\n",
      "Downloading pytz-2024.2-py2.py3-none-any.whl (508 kB)\n",
      "Downloading regex-2024.11.6-cp313-cp313-win_amd64.whl (273 kB)\n",
      "Downloading scipy-1.15.1-cp313-cp313-win_amd64.whl (43.6 MB)\n",
      "   ---------------------------------------- 0.0/43.6 MB ? eta -:--:--\n",
      "   ---------------------------------------- 0.0/43.6 MB ? eta -:--:--\n",
      "   - -------------------------------------- 1.6/43.6 MB 11.9 MB/s eta 0:00:04\n",
      "   - -------------------------------------- 1.8/43.6 MB 6.4 MB/s eta 0:00:07\n",
      "   -- ------------------------------------- 2.6/43.6 MB 5.0 MB/s eta 0:00:09\n",
      "   --- ------------------------------------ 3.4/43.6 MB 4.1 MB/s eta 0:00:10\n",
      "   --- ------------------------------------ 3.9/43.6 MB 4.0 MB/s eta 0:00:10\n",
      "   ---- ----------------------------------- 4.7/43.6 MB 3.9 MB/s eta 0:00:10\n",
      "   ----- ---------------------------------- 5.5/43.6 MB 3.7 MB/s eta 0:00:11\n",
      "   ----- ---------------------------------- 6.0/43.6 MB 3.7 MB/s eta 0:00:11\n",
      "   ------ --------------------------------- 6.8/43.6 MB 3.6 MB/s eta 0:00:11\n",
      "   ------ --------------------------------- 7.6/43.6 MB 3.5 MB/s eta 0:00:11\n",
      "   ------- -------------------------------- 8.1/43.6 MB 3.5 MB/s eta 0:00:11\n",
      "   -------- ------------------------------- 8.9/43.6 MB 3.5 MB/s eta 0:00:10\n",
      "   -------- ------------------------------- 9.4/43.6 MB 3.4 MB/s eta 0:00:11\n",
      "   --------- ------------------------------ 10.2/43.6 MB 3.4 MB/s eta 0:00:10\n",
      "   ---------- ----------------------------- 11.0/43.6 MB 3.4 MB/s eta 0:00:10\n",
      "   ---------- ----------------------------- 11.5/43.6 MB 3.3 MB/s eta 0:00:10\n",
      "   ----------- ---------------------------- 12.3/43.6 MB 3.4 MB/s eta 0:00:10\n",
      "   ------------ --------------------------- 13.1/43.6 MB 3.4 MB/s eta 0:00:09\n",
      "   ------------ --------------------------- 13.4/43.6 MB 3.4 MB/s eta 0:00:09\n",
      "   ------------- -------------------------- 14.4/43.6 MB 3.4 MB/s eta 0:00:09\n",
      "   ------------- -------------------------- 15.2/43.6 MB 3.4 MB/s eta 0:00:09\n",
      "   -------------- ------------------------- 15.5/43.6 MB 3.3 MB/s eta 0:00:09\n",
      "   --------------- ------------------------ 16.5/43.6 MB 3.3 MB/s eta 0:00:09\n",
      "   --------------- ------------------------ 17.3/43.6 MB 3.3 MB/s eta 0:00:08\n",
      "   ---------------- ----------------------- 17.6/43.6 MB 3.3 MB/s eta 0:00:08\n",
      "   ---------------- ----------------------- 18.4/43.6 MB 3.3 MB/s eta 0:00:08\n",
      "   ----------------- ---------------------- 19.1/43.6 MB 3.3 MB/s eta 0:00:08\n",
      "   ------------------ --------------------- 19.7/43.6 MB 3.3 MB/s eta 0:00:08\n",
      "   ------------------ --------------------- 20.4/43.6 MB 3.3 MB/s eta 0:00:08\n",
      "   ------------------- -------------------- 21.0/43.6 MB 3.3 MB/s eta 0:00:07\n",
      "   ------------------- -------------------- 21.8/43.6 MB 3.3 MB/s eta 0:00:07\n",
      "   -------------------- ------------------- 22.5/43.6 MB 3.3 MB/s eta 0:00:07\n",
      "   --------------------- ------------------ 23.1/43.6 MB 3.2 MB/s eta 0:00:07\n",
      "   --------------------- ------------------ 23.9/43.6 MB 3.3 MB/s eta 0:00:07\n",
      "   ---------------------- ----------------- 24.6/43.6 MB 3.3 MB/s eta 0:00:06\n",
      "   ----------------------- ---------------- 25.2/43.6 MB 3.2 MB/s eta 0:00:06\n",
      "   ----------------------- ---------------- 26.0/43.6 MB 3.3 MB/s eta 0:00:06\n",
      "   ------------------------ --------------- 26.7/43.6 MB 3.3 MB/s eta 0:00:06\n",
      "   ------------------------ --------------- 27.0/43.6 MB 3.3 MB/s eta 0:00:06\n",
      "   ------------------------- -------------- 28.0/43.6 MB 3.3 MB/s eta 0:00:05\n",
      "   -------------------------- ------------- 28.8/43.6 MB 3.3 MB/s eta 0:00:05\n",
      "   -------------------------- ------------- 29.1/43.6 MB 3.3 MB/s eta 0:00:05\n",
      "   --------------------------- ------------ 30.1/43.6 MB 3.3 MB/s eta 0:00:05\n",
      "   ---------------------------- ----------- 30.9/43.6 MB 3.3 MB/s eta 0:00:04\n",
      "   ---------------------------- ----------- 31.2/43.6 MB 3.2 MB/s eta 0:00:04\n",
      "   ----------------------------- ---------- 32.0/43.6 MB 3.3 MB/s eta 0:00:04\n",
      "   ------------------------------ --------- 33.0/43.6 MB 3.3 MB/s eta 0:00:04\n",
      "   ------------------------------ --------- 33.3/43.6 MB 3.2 MB/s eta 0:00:04\n",
      "   ------------------------------- -------- 34.1/43.6 MB 3.2 MB/s eta 0:00:03\n",
      "   ------------------------------- -------- 34.9/43.6 MB 3.2 MB/s eta 0:00:03\n",
      "   -------------------------------- ------- 35.4/43.6 MB 3.2 MB/s eta 0:00:03\n",
      "   --------------------------------- ------ 36.2/43.6 MB 3.2 MB/s eta 0:00:03\n",
      "   --------------------------------- ------ 36.7/43.6 MB 3.2 MB/s eta 0:00:03\n",
      "   ---------------------------------- ----- 37.5/43.6 MB 3.2 MB/s eta 0:00:02\n",
      "   ----------------------------------- ---- 38.3/43.6 MB 3.2 MB/s eta 0:00:02\n",
      "   ----------------------------------- ---- 38.8/43.6 MB 3.2 MB/s eta 0:00:02\n",
      "   ------------------------------------ --- 39.6/43.6 MB 3.2 MB/s eta 0:00:02\n",
      "   ------------------------------------- -- 40.4/43.6 MB 3.2 MB/s eta 0:00:02\n",
      "   ------------------------------------- -- 40.9/43.6 MB 3.2 MB/s eta 0:00:01\n",
      "   -------------------------------------- - 41.7/43.6 MB 3.2 MB/s eta 0:00:01\n",
      "   -------------------------------------- - 42.5/43.6 MB 3.2 MB/s eta 0:00:01\n",
      "   ---------------------------------------  43.0/43.6 MB 3.2 MB/s eta 0:00:01\n",
      "   ---------------------------------------  43.5/43.6 MB 3.2 MB/s eta 0:00:01\n",
      "   ---------------------------------------  43.5/43.6 MB 3.2 MB/s eta 0:00:01\n",
      "   ---------------------------------------- 43.6/43.6 MB 3.2 MB/s eta 0:00:00\n",
      "Downloading threadpoolctl-3.5.0-py3-none-any.whl (18 kB)\n",
      "Downloading tzdata-2024.2-py2.py3-none-any.whl (346 kB)\n",
      "Downloading click-8.1.8-py3-none-any.whl (98 kB)\n",
      "Downloading tqdm-4.67.1-py3-none-any.whl (78 kB)\n",
      "Installing collected packages: pytz, tzdata, tqdm, threadpoolctl, regex, numpy, joblib, click, scipy, pandas, nltk, scikit-learn\n",
      "Successfully installed click-8.1.8 joblib-1.4.2 nltk-3.9.1 numpy-2.2.2 pandas-2.2.3 pytz-2024.2 regex-2024.11.6 scikit-learn-1.6.1 scipy-1.15.1 threadpoolctl-3.5.0 tqdm-4.67.1 tzdata-2024.2\n",
      "Note: you may need to restart the kernel to use updated packages.\n"
     ]
    }
   ],
   "source": [
    "pip install nltk pandas scikit-learn"
   ]
  },
  {
   "cell_type": "code",
   "execution_count": 4,
   "metadata": {},
   "outputs": [
    {
     "name": "stderr",
     "output_type": "stream",
     "text": [
      "[nltk_data] Downloading package punkt_tab to\n",
      "[nltk_data]     C:\\Users\\FCI3322\\AppData\\Roaming\\nltk_data...\n",
      "[nltk_data]   Unzipping tokenizers\\punkt_tab.zip.\n"
     ]
    },
    {
     "data": {
      "text/plain": [
       "True"
      ]
     },
     "execution_count": 4,
     "metadata": {},
     "output_type": "execute_result"
    }
   ],
   "source": [
    "from nltk.tokenize import sent_tokenize, word_tokenize\n",
    "import nltk\n",
    "nltk.download('punkt_tab')"
   ]
  },
  {
   "cell_type": "code",
   "execution_count": 6,
   "metadata": {},
   "outputs": [],
   "source": [
    "mytext = \"\"\"In the previous chapter, we saw examples of some common NLP \n",
    "applications that we might encounter in everyday life. If we were asked to \n",
    "build such an application, think about how we would approach doing so at our \n",
    "organization. We would normally walk through the requirements and break the \n",
    "problem down into several sub-problems, then try to develop a step-by-step \n",
    "procedure to solve them. Since language processing is involved, we would also\n",
    "list all the forms of text processing need\n",
    "\"\"\"\n"
   ]
  },
  {
   "cell_type": "code",
   "execution_count": 7,
   "metadata": {},
   "outputs": [
    {
     "name": "stdout",
     "output_type": "stream",
     "text": [
      "['In the previous chapter, we saw examples of some common NLP \\napplications that we might encounter in everyday life.', 'If we were asked to \\nbuild such an application, think about how we would approach doing so at our \\norganization.', 'We would normally walk through the requirements and break the \\nproblem down into several sub-problems, then try to develop a step-by-step \\nprocedure to solve them.', 'Since language processing is involved, we would also\\nlist all the forms of text processing need']\n"
     ]
    }
   ],
   "source": [
    "mytext = \"\"\"In the previous chapter, we saw examples of some common NLP \n",
    "applications that we might encounter in everyday life. If we were asked to \n",
    "build such an application, think about how we would approach doing so at our \n",
    "organization. We would normally walk through the requirements and break the \n",
    "problem down into several sub-problems, then try to develop a step-by-step \n",
    "procedure to solve them. Since language processing is involved, we would also\n",
    "list all the forms of text processing need\n",
    "\"\"\"\n",
    "my_sentences = sent_tokenize(mytext)\n",
    "print(my_sentences)"
   ]
  },
  {
   "cell_type": "code",
   "execution_count": 8,
   "metadata": {},
   "outputs": [],
   "source": [
    "import nltk\n",
    "import pandas as pd\n",
    "from nltk.stem import PorterStemmer\n",
    "#init stremmer\n",
    "Porter_Stemmer=PorterStemmer()"
   ]
  },
  {
   "cell_type": "code",
   "execution_count": 9,
   "metadata": {},
   "outputs": [
    {
     "data": {
      "text/html": [
       "<div>\n",
       "<style scoped>\n",
       "    .dataframe tbody tr th:only-of-type {\n",
       "        vertical-align: middle;\n",
       "    }\n",
       "\n",
       "    .dataframe tbody tr th {\n",
       "        vertical-align: top;\n",
       "    }\n",
       "\n",
       "    .dataframe thead th {\n",
       "        text-align: right;\n",
       "    }\n",
       "</style>\n",
       "<table border=\"1\" class=\"dataframe\">\n",
       "  <thead>\n",
       "    <tr style=\"text-align: right;\">\n",
       "      <th></th>\n",
       "      <th>original_word</th>\n",
       "      <th>stemmed_word</th>\n",
       "    </tr>\n",
       "  </thead>\n",
       "  <tbody>\n",
       "    <tr>\n",
       "      <th>0</th>\n",
       "      <td>connect</td>\n",
       "      <td>connect</td>\n",
       "    </tr>\n",
       "    <tr>\n",
       "      <th>1</th>\n",
       "      <td>connected</td>\n",
       "      <td>connect</td>\n",
       "    </tr>\n",
       "    <tr>\n",
       "      <th>2</th>\n",
       "      <td>connection</td>\n",
       "      <td>connect</td>\n",
       "    </tr>\n",
       "    <tr>\n",
       "      <th>3</th>\n",
       "      <td>connections</td>\n",
       "      <td>connect</td>\n",
       "    </tr>\n",
       "    <tr>\n",
       "      <th>4</th>\n",
       "      <td>connects</td>\n",
       "      <td>connect</td>\n",
       "    </tr>\n",
       "  </tbody>\n",
       "</table>\n",
       "</div>"
      ],
      "text/plain": [
       "  original_word stemmed_word\n",
       "0       connect      connect\n",
       "1     connected      connect\n",
       "2    connection      connect\n",
       "3   connections      connect\n",
       "4      connects      connect"
      ]
     },
     "execution_count": 9,
     "metadata": {},
     "output_type": "execute_result"
    }
   ],
   "source": [
    "# init stemmer\n",
    "porter_stemmer=PorterStemmer()\n",
    "# stem connect variations\n",
    "words=[\"connect\",\"connected\",\"connection\",\"connections\",\"connects\"]\n",
    "stemmed_words=[porter_stemmer.stem(word=word) for word in words]\n",
    "\n",
    "stemdf= pd.DataFrame({'original_word': words,'stemmed_word': stemmed_words})\n",
    "stemdf"
   ]
  },
  {
   "cell_type": "code",
   "execution_count": 10,
   "metadata": {},
   "outputs": [
    {
     "name": "stderr",
     "output_type": "stream",
     "text": [
      "[nltk_data] Downloading package wordnet to\n",
      "[nltk_data]     C:\\Users\\FCI3322\\AppData\\Roaming\\nltk_data...\n"
     ]
    },
    {
     "name": "stdout",
     "output_type": "stream",
     "text": [
      "['trouble', 'troubling', 'troubled', 'troubles', 'dogs', 'cats'] ['trouble', 'trouble', 'trouble', 'trouble', 'dog', 'cat']\n"
     ]
    }
   ],
   "source": [
    "from nltk.stem import WordNetLemmatizer\n",
    "nltk.download('wordnet')\n",
    "\n",
    "#init lemmatizer\n",
    "# init lemmatizer\n",
    "lemmatizer = WordNetLemmatizer()\n",
    "words=[\"trouble\",\"troubling\",\"troubled\",\"troubles\",\"dogs\", \"cats\"]\n",
    "lemmatized_words=[lemmatizer.lemmatize(word=word,pos='v') for word in words]\n",
    "print(words, lemmatized_words)"
   ]
  }
 ],
 "metadata": {
  "kernelspec": {
   "display_name": "venv",
   "language": "python",
   "name": "python3"
  },
  "language_info": {
   "codemirror_mode": {
    "name": "ipython",
    "version": 3
   },
   "file_extension": ".py",
   "mimetype": "text/x-python",
   "name": "python",
   "nbconvert_exporter": "python",
   "pygments_lexer": "ipython3",
   "version": "3.13.1"
  }
 },
 "nbformat": 4,
 "nbformat_minor": 2
}
